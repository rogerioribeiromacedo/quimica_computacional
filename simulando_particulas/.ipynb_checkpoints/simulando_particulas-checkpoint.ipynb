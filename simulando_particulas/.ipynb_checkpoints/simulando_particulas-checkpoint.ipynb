{
 "cells": [
  {
   "cell_type": "markdown",
   "id": "ec9c8697-f43f-48f9-8f14-bd5711f87354",
   "metadata": {},
   "source": [
    "<h1 style=\"color: #2e6c80;\">1. Importando Bibliotecas e configurações</h1>"
   ]
  },
  {
   "cell_type": "code",
   "execution_count": 1,
   "id": "cb55fce2-926a-4b2c-8464-2f47483d3ff6",
   "metadata": {},
   "outputs": [],
   "source": [
    "import numpy as np\n",
    "import matplotlib.pyplot as plt \n",
    "import matplotlib.animation as animation \n",
    "from itertools import product # Produto cartesiano\n",
    "import seaborn as sns\n",
    "from IPython.display import HTML\n",
    "plt.rcParams['figure.dpi'] = 300  \n",
    "plt.rcParams['animation.embed_limit'] = 30"
   ]
  },
  {
   "cell_type": "markdown",
   "id": "7ff3ee66-f91a-4679-9a43-0dced2d0eb15",
   "metadata": {},
   "source": [
    "<h1 style=\"color: #2e6c80;\">1. Potencial de Lennard-Jones</h1>\n",
    "$$U_{LJ}(\\vec r) = 4 \\epsilon \\left[ \\left( \\frac{\\sigma}{r}\\right)^{12} - \\left( \\frac{\\sigma}{r}\\right)^{6} \\right]$$"
   ]
  },
  {
   "cell_type": "markdown",
   "id": "93b81643-6bf8-410f-b643-69109390263d",
   "metadata": {},
   "source": [
    "Onde:\n",
    "* $r = |\\vec r|$ é a distância entre duas partículas\n",
    "* Assumiremos: $\\epsilon \\to 1$, $\\sigma \\to 1$\n",
    "* $(\\frac{\\sigma}{r})^{12}$, representa as interações repulsivas de curta distância\n",
    "* $(\\frac{\\sigma}{r})^6$, representa as interações atrativas de longa distância"
   ]
  },
  {
   "cell_type": "code",
   "execution_count": 2,
   "id": "e67825b0-62c0-482e-9734-5838e74be885",
   "metadata": {},
   "outputs": [],
   "source": [
    "def calc_potencial_lj(r, epsilon = 1, sigma = 1):\n",
    "    # lista com os valores do potencial de Lennard-Jones para cada distância entre duas partículas\n",
    "    ulj = []\n",
    "    for i in r:\n",
    "        vlr_ulj = (4*epsilon)*( ((sigma / i)**12) - ((sigma / i)**6) )\n",
    "        ulj.append(vlr_ulj)\n",
    "\n",
    "    return ulj       "
   ]
  },
  {
   "cell_type": "code",
   "execution_count": 3,
   "id": "0d03879e-7f91-46be-853f-611329f7fa6b",
   "metadata": {},
   "outputs": [],
   "source": [
    "# Vetor de distância\n",
    "r = []\n",
    "r = np.linspace(0.95, 5, 300)\n",
    "# Vetor de potencial LJ\n",
    "ulj = []\n",
    "ulj = calc_potencial_lj(r)"
   ]
  },
  {
   "cell_type": "code",
   "execution_count": 32,
   "id": "b586fb73-60a5-4925-af74-f52f9a3fd98b",
   "metadata": {},
   "outputs": [],
   "source": [
    "#\n",
    "# Gráfico\n",
    "#\n",
    "\n",
    "# subplots(linhas, colunas, tamanho figura=largura e altura em polegadas )\n",
    "fig, ax = plt.subplots(1, 1, figsize=(17, 10))\n",
    "\n",
    "#\n",
    "# Título da Figura\n",
    "#\n",
    "fig.suptitle(\"Potencial de Lennard-Jones\",\n",
    "             fontweight = 'bold', \n",
    "             fontsize = 28,\n",
    "             horizontalalignment = \"center\")\n",
    "\n",
    "# Título do gráfico\n",
    "ax.set_title(r'$\\epsilon = 1; \\sigma = 1$',\n",
    "             fontweight = 'normal', \n",
    "             fontsize = 22,\n",
    "             loc = \"center\",\n",
    "             pad = 10)\n",
    "\n",
    "sns.lineplot(x = r,\n",
    "             y = ulj,\n",
    "             linewidth = 2, \n",
    "             label='Potencial de Lennard-Jones')\n",
    "\n",
    "# Spines -> as linhas dos eixos\n",
    "for axis in ['bottom', 'left', 'top', 'right']:\n",
    "    ax.spines[axis].set_linewidth(2.0)\n",
    "    ax.spines[axis].set_color('0.2')\n",
    "\n",
    "# Ticks\n",
    "ax.xaxis.set_ticks_position('bottom')\n",
    "ax.xaxis.set_ticks(np.arange(1.0, 5.1, 0.5))\n",
    "\n",
    "ax.yaxis.set_ticks_position('left')\n",
    "ax.yaxis.set_ticks(np.arange(-1.0, 2.1, 0.5))\n",
    "\n",
    "# Configurando ticks para os valores\n",
    "# Tick -> linha nos pontos dos eixos\n",
    "ax.tick_params(which = 'major',\n",
    "               length = 7,\n",
    "               grid_alpha = 0.5,\n",
    "               width = 1.5)\n",
    "\n",
    "# definição geral dos ticks do eixo y e x\n",
    "plt.yticks(size = 13, weight = 'bold', color = '0.2')\n",
    "plt.xticks(size = 13, weight = 'bold', color = '0.2')\n",
    "\n",
    "ax.set_ylabel('Potencial - $U(r)$', \n",
    "             fontsize = 18, weight = 'bold', \n",
    "             color = '0.2', labelpad = 20)\n",
    "ax.set_xlabel('Distância - $r$', \n",
    "              fontsize = 18, weight = 'bold', \n",
    "              color = '0.2', labelpad = 20)\n",
    "\n",
    "sns.move_legend(ax, \"best\", \n",
    "                # bbox_to_anchor=(1, 1),\n",
    "                fancybox = True,\n",
    "                shadow = True,\n",
    "                fontsize = 14,\n",
    "                title = \"Potencial\",\n",
    "                title_fontsize = 15,\n",
    "                title_fontweight = 'bold',\n",
    "                labelspacing = 1)\n",
    "\n",
    "# Linha de marcação para o volume de equivalência (ou seja, o PE)\n",
    "#plt.axvline(0.050, color='r', ls=\"--\", alpha=0.5, linewidth=2.5)\n",
    "\n",
    "# Linha de marcação e texto para o pH do volume de equivalência (ou seja, o PE)\n",
    "texto = r'$U_{LJ}(\\vec r) = 4 \\epsilon \\left[ \\left( \\frac{\\sigma}{r}\\right)^{12} - \\left( \\frac{\\sigma}{r}\\right)^{6} \\right]$'\n",
    "plt.axhline(0, color='r', ls=\"--\", alpha=0.5, linewidth=2.5)\n",
    "ax.text(2.5, 1.0, texto, color='red', horizontalalignment='center', verticalalignment='center', fontsize=20, fontweight='bold')\n",
    "\n",
    "# Salvando gráfico\n",
    "plt.savefig('potencial_lennard_jones.PNG', bbox_inches = 'tight', dpi =250, facecolor = ax.get_facecolor())\n",
    "plt.cla()\n",
    "\n",
    "# Fechando\n",
    "plt.close(fig)"
   ]
  }
 ],
 "metadata": {
  "kernelspec": {
   "display_name": "Python 3 (ipykernel)",
   "language": "python",
   "name": "python3"
  },
  "language_info": {
   "codemirror_mode": {
    "name": "ipython",
    "version": 3
   },
   "file_extension": ".py",
   "mimetype": "text/x-python",
   "name": "python",
   "nbconvert_exporter": "python",
   "pygments_lexer": "ipython3",
   "version": "3.12.2"
  }
 },
 "nbformat": 4,
 "nbformat_minor": 5
}
